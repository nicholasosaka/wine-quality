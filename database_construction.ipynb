{
 "cells": [
  {
   "cell_type": "code",
   "execution_count": 1,
   "metadata": {},
   "outputs": [],
   "source": [
    "import time\n",
    "import pandas as pd\n",
    "import numpy as np\n",
    "from selenium import webdriver\n",
    "from selenium.webdriver.chrome.service import Service\n",
    "from bs4 import BeautifulSoup"
   ]
  },
  {
   "cell_type": "code",
   "execution_count": 2,
   "metadata": {},
   "outputs": [],
   "source": [
    "service = Service('/usr/local/bin/chromedriver')"
   ]
  },
  {
   "cell_type": "code",
   "execution_count": 3,
   "metadata": {},
   "outputs": [],
   "source": [
    "def scroll(driver, timeout, max_scrolls):\n",
    "    scroll_pause_time = timeout\n",
    "    \n",
    "    current_scroll = 0\n",
    "\n",
    "    # Get scroll height\n",
    "    last_height = driver.execute_script(\"return document.body.scrollHeight\")\n",
    "\n",
    "    while True:\n",
    "        # Scroll down to bottom\n",
    "        driver.execute_script(\"window.scrollTo(0, document.body.scrollHeight);\")\n",
    "\n",
    "        # Wait to load page\n",
    "        time.sleep(scroll_pause_time)\n",
    "\n",
    "#         # Calculate new scroll height and compare with last scroll height\n",
    "#         new_height = driver.execute_script(\"return document.body.scrollHeight\")\n",
    "#         if new_height == last_height:\n",
    "#             # If heights are the same it will exit the function\n",
    "#             break\n",
    "#         last_height = new_height\n",
    "        \n",
    "        current_scroll += 1\n",
    "        if current_scroll >= max_scrolls:\n",
    "            break"
   ]
  },
  {
   "cell_type": "code",
   "execution_count": 9,
   "metadata": {},
   "outputs": [],
   "source": [
    "def get_vivino_explore_source(max_scrolls=50):\n",
    "    service.start()\n",
    "    driver = webdriver.Remote(service.service_url)\n",
    "    driver.get('https://www.vivino.com/explore')\n",
    "    \n",
    "    scroll(driver, 2, max_scrolls)\n",
    "    \n",
    "    page_source = driver.page_source\n",
    "    \n",
    "    driver.quit()\n",
    "\n",
    "    return page_source"
   ]
  },
  {
   "cell_type": "code",
   "execution_count": 5,
   "metadata": {},
   "outputs": [],
   "source": [
    "def get_wine_links(source):\n",
    "    links = []\n",
    "    \n",
    "    explore_soup = BeautifulSoup(source, \"html.parser\")\n",
    "    cards = explore_soup.find_all(\"div\", class_=\"explorerCard__explorerCard--3Q7_0\")\n",
    "    \n",
    "    for card in cards:\n",
    "        full_link = \"https://vivino.com\" + card.a['href']\n",
    "        links.append(full_link[:-32])\n",
    "    \n",
    "    return links"
   ]
  },
  {
   "cell_type": "code",
   "execution_count": 47,
   "metadata": {},
   "outputs": [],
   "source": [
    "def save_links_to_file(path, links):\n",
    "    with open(path, \"w\") as f:\n",
    "        for link in f:\n",
    "            f.write(link+\"\\n\")"
   ]
  },
  {
   "cell_type": "code",
   "execution_count": 13,
   "metadata": {},
   "outputs": [],
   "source": [
    "vivino_explore_source = get_vivino_explore_source(50)"
   ]
  },
  {
   "cell_type": "code",
   "execution_count": 14,
   "metadata": {},
   "outputs": [
    {
     "name": "stdout",
     "output_type": "stream",
     "text": [
      "1725\n"
     ]
    },
    {
     "data": {
      "text/plain": [
       "['https://vivino.com/belle-glos-dairyman-vineyard-pinot-noir/w/1561411?year=2019&price_id=23873673',\n",
       " 'https://vivino.com/alto-moncayo-garnacha/w/98782?year=2017&price_id=20475900',\n",
       " 'https://vivino.com/gitana-lupi-rezerva/w/1468452?year=2016&price_id=23006244',\n",
       " 'https://vivino.com/merry-edwards-wines-sauvignon-blanc/w/12266?year=2018&price_id=20310937',\n",
       " 'https://vivino.com/altaneve-prosecco-superiore/w/2052330?year=N.V.&price_id=9768113']"
      ]
     },
     "execution_count": 14,
     "metadata": {},
     "output_type": "execute_result"
    }
   ],
   "source": [
    "wine_links = get_wine_links(vivino_explore_source)\n",
    "print(len(wine_links))\n",
    "wine_links[:5]"
   ]
  },
  {
   "cell_type": "code",
   "execution_count": 46,
   "metadata": {},
   "outputs": [],
   "source": [
    "save_links_to_file(\"datasets/vivino_explore_links.txt\", wine_links)"
   ]
  },
  {
   "cell_type": "code",
   "execution_count": null,
   "metadata": {},
   "outputs": [],
   "source": []
  }
 ],
 "metadata": {
  "kernelspec": {
   "display_name": "Python 3",
   "language": "python",
   "name": "python3"
  },
  "language_info": {
   "codemirror_mode": {
    "name": "ipython",
    "version": 3
   },
   "file_extension": ".py",
   "mimetype": "text/x-python",
   "name": "python",
   "nbconvert_exporter": "python",
   "pygments_lexer": "ipython3",
   "version": "3.8.5"
  }
 },
 "nbformat": 4,
 "nbformat_minor": 4
}
